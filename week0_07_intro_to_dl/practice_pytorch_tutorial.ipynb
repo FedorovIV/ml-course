{
  "cells": [
    {
      "cell_type": "markdown",
      "metadata": {
        "id": "-nEtOTFPos11"
      },
      "source": [
        "# week0_09: Once again, what is PyTorch?\n",
        "\n",
        "It’s a Python-based scientific computing package targeted at two sets of audiences:\n",
        "\n",
        "-  A replacement for NumPy to use the power of GPUs\n",
        "-  a deep learning research platform that provides maximum flexibility and speed\n",
        "\n",
        "Getting Started\n",
        "---------------\n",
        "\n",
        "**Tensors**\n",
        "\n",
        "Tensors are similar to NumPy’s ndarrays, with the addition being that\n",
        "Tensors can also be used on a GPU to accelerate computing.\n",
        "\n"
      ]
    },
    {
      "cell_type": "markdown",
      "metadata": {
        "id": "8gF643dpn_B_"
      },
      "source": [
        "_Credits: First two parts of this notebook are based on PyTorch official_ [tensor](https://pytorch.org/tutorials/beginner/blitz/tensor_tutorial.html#sphx-glr-beginner-blitz-tensor-tutorial-py) _and_ [autograd](https://pytorch.org/tutorials/beginner/blitz/autograd_tutorial.html#sphx-glr-beginner-blitz-autograd-tutorial-py) _tutorials._"
      ]
    },
    {
      "cell_type": "code",
      "execution_count": 1,
      "metadata": {
        "ExecuteTime": {
          "end_time": "2021-03-25T07:44:50.004422Z",
          "start_time": "2021-03-25T07:44:49.377035Z"
        },
        "id": "wCg57jzaos12"
      },
      "outputs": [],
      "source": [
        "import torch"
      ]
    },
    {
      "cell_type": "markdown",
      "metadata": {
        "id": "y2XO1pKzos17"
      },
      "source": [
        "Construct a 5x3 matrix, uninitialized:\n",
        "\n"
      ]
    },
    {
      "cell_type": "code",
      "execution_count": 2,
      "metadata": {
        "ExecuteTime": {
          "end_time": "2021-03-25T07:44:50.031085Z",
          "start_time": "2021-03-25T07:44:50.005970Z"
        },
        "colab": {
          "base_uri": "https://localhost:8080/"
        },
        "id": "z4hzsf2Zos2A",
        "outputId": "5b30b92e-604c-4dff-d6ce-7dcae1375b81"
      },
      "outputs": [
        {
          "output_type": "stream",
          "name": "stdout",
          "text": [
            "tensor([[ 2.8026e-45,  1.1210e-44,  1.4153e-42],\n",
            "        [ 4.4148e-41, -1.3797e+07,  3.0970e-41],\n",
            "        [ 2.1019e-44,  4.4148e-41, -1.3797e+07],\n",
            "        [ 3.0970e-41,  1.4013e-45,  0.0000e+00],\n",
            "        [-1.3797e+07,  3.0970e-41, -1.3797e+07]])\n"
          ]
        }
      ],
      "source": [
        "x = torch.empty(5, 3)\n",
        "print(x)"
      ]
    },
    {
      "cell_type": "markdown",
      "metadata": {
        "id": "s1UXUAyfos2G"
      },
      "source": [
        "Construct a randomly initialized matrix:\n",
        "\n"
      ]
    },
    {
      "cell_type": "code",
      "execution_count": 3,
      "metadata": {
        "ExecuteTime": {
          "end_time": "2021-03-25T07:44:50.213418Z",
          "start_time": "2021-03-25T07:44:50.208186Z"
        },
        "colab": {
          "base_uri": "https://localhost:8080/"
        },
        "id": "2pZuhVZdos2I",
        "outputId": "64faa681-0380-478d-f981-897a095cbbf6"
      },
      "outputs": [
        {
          "output_type": "stream",
          "name": "stdout",
          "text": [
            "tensor([[0.8633, 0.2402, 0.8946],\n",
            "        [0.2654, 0.7176, 0.5982],\n",
            "        [0.3874, 0.6650, 0.0839],\n",
            "        [0.8934, 0.9940, 0.0997],\n",
            "        [0.2283, 0.3405, 0.7949]])\n"
          ]
        }
      ],
      "source": [
        "x = torch.rand(5, 3)\n",
        "print(x)"
      ]
    },
    {
      "cell_type": "markdown",
      "metadata": {
        "id": "XDuGrzjJos2O"
      },
      "source": [
        "Construct a matrix filled zeros and of dtype long:\n",
        "\n"
      ]
    },
    {
      "cell_type": "code",
      "execution_count": 4,
      "metadata": {
        "ExecuteTime": {
          "end_time": "2021-03-25T07:44:50.549516Z",
          "start_time": "2021-03-25T07:44:50.545546Z"
        },
        "colab": {
          "base_uri": "https://localhost:8080/"
        },
        "id": "d7RuB4xhos2P",
        "outputId": "009d0b4f-85b5-4d54-f500-ed6fc259224c"
      },
      "outputs": [
        {
          "output_type": "stream",
          "name": "stdout",
          "text": [
            "tensor([[0, 0, 0],\n",
            "        [0, 0, 0],\n",
            "        [0, 0, 0],\n",
            "        [0, 0, 0],\n",
            "        [0, 0, 0]])\n"
          ]
        }
      ],
      "source": [
        "x = torch.zeros(5, 3, dtype=torch.long)\n",
        "print(x)"
      ]
    },
    {
      "cell_type": "markdown",
      "metadata": {
        "id": "dh6Esa3Fos2W"
      },
      "source": [
        "Construct a tensor directly from data:\n",
        "\n"
      ]
    },
    {
      "cell_type": "code",
      "execution_count": 5,
      "metadata": {
        "ExecuteTime": {
          "end_time": "2021-03-25T07:44:51.299248Z",
          "start_time": "2021-03-25T07:44:51.296532Z"
        },
        "colab": {
          "base_uri": "https://localhost:8080/"
        },
        "id": "RnInKPIQos2X",
        "outputId": "bde8d10b-c998-4e7c-8dd8-e2333e42e0eb"
      },
      "outputs": [
        {
          "output_type": "stream",
          "name": "stdout",
          "text": [
            "tensor([5.5000, 3.0000])\n"
          ]
        }
      ],
      "source": [
        "x = torch.tensor([5.5, 3])\n",
        "print(x)"
      ]
    },
    {
      "cell_type": "markdown",
      "metadata": {
        "id": "vMJZ3uZQos2q"
      },
      "source": [
        "or create a tensor based on an existing tensor. These methods\n",
        "will reuse properties of the input tensor, e.g. dtype, unless\n",
        "new values are provided by user\n",
        "\n"
      ]
    },
    {
      "cell_type": "code",
      "execution_count": 6,
      "metadata": {
        "ExecuteTime": {
          "end_time": "2021-03-25T07:44:52.052262Z",
          "start_time": "2021-03-25T07:44:52.047903Z"
        },
        "colab": {
          "base_uri": "https://localhost:8080/"
        },
        "id": "bKfLS4Mios2r",
        "outputId": "708a1780-3425-44cb-a3f8-934db452a34c"
      },
      "outputs": [
        {
          "output_type": "stream",
          "name": "stdout",
          "text": [
            "tensor([[1., 1., 1.],\n",
            "        [1., 1., 1.],\n",
            "        [1., 1., 1.],\n",
            "        [1., 1., 1.],\n",
            "        [1., 1., 1.]], dtype=torch.float64)\n",
            "tensor([[ 0.2052, -1.1786,  0.5593],\n",
            "        [ 0.1323, -1.2860, -1.8393],\n",
            "        [-1.6632, -0.2179,  0.3375],\n",
            "        [ 0.4966, -1.6189,  0.6231],\n",
            "        [ 0.2439, -0.6347,  0.6566]])\n"
          ]
        }
      ],
      "source": [
        "x = x.new_ones(5, 3, dtype=torch.double)  # new_* methods take in sizes\n",
        "print(x)\n",
        "\n",
        "x = torch.randn_like(x, dtype=torch.float)  # override dtype!\n",
        "print(x)  # result has the same size"
      ]
    },
    {
      "cell_type": "code",
      "execution_count": 7,
      "metadata": {
        "ExecuteTime": {
          "end_time": "2021-03-25T07:44:53.123766Z",
          "start_time": "2021-03-25T07:44:53.121825Z"
        },
        "id": "4JDriQewn_CF"
      },
      "outputs": [],
      "source": [
        "import numpy as np"
      ]
    },
    {
      "cell_type": "code",
      "execution_count": 8,
      "metadata": {
        "ExecuteTime": {
          "end_time": "2021-03-25T07:44:53.715540Z",
          "start_time": "2021-03-25T07:44:53.568415Z"
        },
        "id": "fkEBctRCn_CH",
        "outputId": "b16b3c4b-8af9-4ae8-b1a4-163a44200790",
        "colab": {
          "base_uri": "https://localhost:8080/",
          "height": 174
        }
      },
      "outputs": [
        {
          "output_type": "error",
          "ename": "AttributeError",
          "evalue": "'NoneType' object has no attribute 'dtype'",
          "traceback": [
            "\u001b[0;31m---------------------------------------------------------------------------\u001b[0m",
            "\u001b[0;31mAttributeError\u001b[0m                            Traceback (most recent call last)",
            "\u001b[0;32m<ipython-input-8-a88c0c32d21c>\u001b[0m in \u001b[0;36m<cell line: 6>\u001b[0;34m()\u001b[0m\n\u001b[1;32m      4\u001b[0m \u001b[0ma_tensor\u001b[0m \u001b[0;34m=\u001b[0m \u001b[0;32mNone\u001b[0m  \u001b[0;31m# YOUR CODE HERE\u001b[0m\u001b[0;34m\u001b[0m\u001b[0;34m\u001b[0m\u001b[0m\n\u001b[1;32m      5\u001b[0m \u001b[0;34m\u001b[0m\u001b[0m\n\u001b[0;32m----> 6\u001b[0;31m \u001b[0;32massert\u001b[0m \u001b[0ma_tensor\u001b[0m\u001b[0;34m.\u001b[0m\u001b[0mdtype\u001b[0m \u001b[0;34m==\u001b[0m \u001b[0mtorch\u001b[0m\u001b[0;34m.\u001b[0m\u001b[0mfloat32\u001b[0m\u001b[0;34m\u001b[0m\u001b[0;34m\u001b[0m\u001b[0m\n\u001b[0m",
            "\u001b[0;31mAttributeError\u001b[0m: 'NoneType' object has no attribute 'dtype'"
          ]
        }
      ],
      "source": [
        "a = np.random.randint((2, 5))\n",
        "\n",
        "# Create a torch tensor from numpy tensor and cast it to float32 type\n",
        "a_tensor = None  # YOUR CODE HERE\n",
        "\n",
        "assert a_tensor.dtype == torch.float32"
      ]
    },
    {
      "cell_type": "markdown",
      "metadata": {
        "id": "cHcJcupjos2u"
      },
      "source": [
        "Get its size:\n",
        "\n"
      ]
    },
    {
      "cell_type": "code",
      "execution_count": 9,
      "metadata": {
        "ExecuteTime": {
          "end_time": "2021-03-25T07:45:03.043559Z",
          "start_time": "2021-03-25T07:45:03.041294Z"
        },
        "colab": {
          "base_uri": "https://localhost:8080/"
        },
        "id": "glNo_10Kos2v",
        "outputId": "1bbb593f-7888-48ca-d343-9b14c8f6a172"
      },
      "outputs": [
        {
          "output_type": "stream",
          "name": "stdout",
          "text": [
            "torch.Size([5, 3])\n"
          ]
        }
      ],
      "source": [
        "print(x.size())"
      ]
    },
    {
      "cell_type": "markdown",
      "metadata": {
        "id": "C1Db8Rg8n_CI"
      },
      "source": [
        "**Note:** ``torch.Size`` is in fact a tuple, so it supports all tuple operations."
      ]
    },
    {
      "cell_type": "code",
      "execution_count": 10,
      "metadata": {
        "ExecuteTime": {
          "end_time": "2021-03-25T07:45:40.913217Z",
          "start_time": "2021-03-25T07:45:40.906379Z"
        },
        "id": "y9BWlaOXn_CI",
        "outputId": "4d8fbefe-0b40-4622-b1f4-f202fd3085fe",
        "colab": {
          "base_uri": "https://localhost:8080/"
        }
      },
      "outputs": [
        {
          "output_type": "execute_result",
          "data": {
            "text/plain": [
              "True"
            ]
          },
          "metadata": {},
          "execution_count": 10
        }
      ],
      "source": [
        "isinstance(x.size(), tuple)"
      ]
    },
    {
      "cell_type": "markdown",
      "metadata": {
        "id": "_scE1Qvwos21"
      },
      "source": [
        "#### Operations\n",
        "\n",
        "There are multiple syntaxes for operations. In the following\n",
        "example, we will take a look at the addition operation.\n",
        "\n",
        "Addition: syntax 1"
      ]
    },
    {
      "cell_type": "code",
      "execution_count": 11,
      "metadata": {
        "ExecuteTime": {
          "end_time": "2021-03-25T07:47:25.121154Z",
          "start_time": "2021-03-25T07:47:25.115729Z"
        },
        "colab": {
          "base_uri": "https://localhost:8080/"
        },
        "id": "luQAJTT9os22",
        "outputId": "05fc4855-56b0-4b66-d774-67c9720bd263"
      },
      "outputs": [
        {
          "output_type": "stream",
          "name": "stdout",
          "text": [
            "tensor([[ 0.9871, -0.5706,  0.6270],\n",
            "        [ 0.5484, -0.8708, -1.0982],\n",
            "        [-1.1692, -0.1665,  0.4661],\n",
            "        [ 0.6232, -0.6740,  1.4638],\n",
            "        [ 1.1629,  0.0032,  1.6240]])\n"
          ]
        }
      ],
      "source": [
        "y = torch.rand(5, 3)\n",
        "print(x + y)"
      ]
    },
    {
      "cell_type": "markdown",
      "metadata": {
        "id": "e8s8E-Q2os26"
      },
      "source": [
        "Addition: syntax 2\n",
        "\n"
      ]
    },
    {
      "cell_type": "code",
      "execution_count": 12,
      "metadata": {
        "ExecuteTime": {
          "end_time": "2021-03-25T07:47:26.319413Z",
          "start_time": "2021-03-25T07:47:26.315562Z"
        },
        "colab": {
          "base_uri": "https://localhost:8080/"
        },
        "id": "FLwb3hgyos28",
        "outputId": "4170273c-071b-4f98-c7b1-0d66edc35c95"
      },
      "outputs": [
        {
          "output_type": "stream",
          "name": "stdout",
          "text": [
            "tensor([[ 0.9871, -0.5706,  0.6270],\n",
            "        [ 0.5484, -0.8708, -1.0982],\n",
            "        [-1.1692, -0.1665,  0.4661],\n",
            "        [ 0.6232, -0.6740,  1.4638],\n",
            "        [ 1.1629,  0.0032,  1.6240]])\n"
          ]
        }
      ],
      "source": [
        "print(torch.add(x, y))"
      ]
    },
    {
      "cell_type": "markdown",
      "metadata": {
        "id": "2dItCJmIos2_"
      },
      "source": [
        "Addition: providing an output tensor as argument\n",
        "\n"
      ]
    },
    {
      "cell_type": "code",
      "execution_count": 13,
      "metadata": {
        "ExecuteTime": {
          "end_time": "2021-03-25T07:47:34.343508Z",
          "start_time": "2021-03-25T07:47:34.339936Z"
        },
        "colab": {
          "base_uri": "https://localhost:8080/"
        },
        "id": "eTXFN-TTos3B",
        "outputId": "84c096d3-e04d-4615-ec6a-7d053a79178d"
      },
      "outputs": [
        {
          "output_type": "stream",
          "name": "stdout",
          "text": [
            "tensor([[ 0.9871, -0.5706,  0.6270],\n",
            "        [ 0.5484, -0.8708, -1.0982],\n",
            "        [-1.1692, -0.1665,  0.4661],\n",
            "        [ 0.6232, -0.6740,  1.4638],\n",
            "        [ 1.1629,  0.0032,  1.6240]])\n"
          ]
        }
      ],
      "source": [
        "result = torch.empty(5, 3)\n",
        "torch.add(x, y, out=result)\n",
        "print(result)"
      ]
    },
    {
      "cell_type": "markdown",
      "metadata": {
        "id": "BmLxccujos3F"
      },
      "source": [
        "Addition: in-place\n",
        "\n"
      ]
    },
    {
      "cell_type": "code",
      "execution_count": 14,
      "metadata": {
        "ExecuteTime": {
          "end_time": "2021-03-25T07:47:35.559048Z",
          "start_time": "2021-03-25T07:47:35.555829Z"
        },
        "colab": {
          "base_uri": "https://localhost:8080/"
        },
        "id": "udSpL0x0os3H",
        "outputId": "316a5f08-ce94-4504-a6f1-9c7d84d7a8a9"
      },
      "outputs": [
        {
          "output_type": "stream",
          "name": "stdout",
          "text": [
            "tensor([[ 0.9871, -0.5706,  0.6270],\n",
            "        [ 0.5484, -0.8708, -1.0982],\n",
            "        [-1.1692, -0.1665,  0.4661],\n",
            "        [ 0.6232, -0.6740,  1.4638],\n",
            "        [ 1.1629,  0.0032,  1.6240]])\n"
          ]
        }
      ],
      "source": [
        "# adds x to y\n",
        "y.add_(x)\n",
        "print(y)"
      ]
    },
    {
      "cell_type": "markdown",
      "metadata": {
        "id": "zqQU0LO0os3M"
      },
      "source": [
        "**Note**\n",
        "\n",
        "Any operation that mutates a tensor in-place is post-fixed with an ``_``.\\\n",
        "For example: ``x.copy_(y)``, ``x.t_()``, will change ``x``.</p></div>\n",
        "\n",
        "You can use standard NumPy-like indexing with all bells and whistles!"
      ]
    },
    {
      "cell_type": "code",
      "execution_count": 15,
      "metadata": {
        "ExecuteTime": {
          "end_time": "2021-03-25T07:49:20.923429Z",
          "start_time": "2021-03-25T07:49:20.918350Z"
        },
        "colab": {
          "base_uri": "https://localhost:8080/"
        },
        "id": "wcuoNbqOos3Q",
        "outputId": "37aa8bb3-4128-46d6-8954-6cc337f2ab97"
      },
      "outputs": [
        {
          "output_type": "stream",
          "name": "stdout",
          "text": [
            "tensor([-1.1786, -1.2860, -0.2179, -1.6189, -0.6347])\n"
          ]
        }
      ],
      "source": [
        "print(x[:, 1])"
      ]
    },
    {
      "cell_type": "markdown",
      "metadata": {
        "id": "XyKhJ4E8os3U"
      },
      "source": [
        "Resizing: If you want to resize/reshape tensor, you can use ``torch.view``:\n",
        "\n"
      ]
    },
    {
      "cell_type": "code",
      "execution_count": 16,
      "metadata": {
        "ExecuteTime": {
          "end_time": "2021-03-25T07:49:24.353702Z",
          "start_time": "2021-03-25T07:49:24.349651Z"
        },
        "colab": {
          "base_uri": "https://localhost:8080/"
        },
        "id": "LmCUrv3qos3V",
        "outputId": "4cf3d2df-3359-4ab0-e815-e0430eb09e32"
      },
      "outputs": [
        {
          "output_type": "stream",
          "name": "stdout",
          "text": [
            "torch.Size([4, 4]) torch.Size([16]) torch.Size([2, 8])\n"
          ]
        }
      ],
      "source": [
        "x = torch.randn(4, 4)\n",
        "y = x.view(16)\n",
        "z = x.view(-1, 8)  # the size -1 is inferred from other dimensions\n",
        "print(x.size(), y.size(), z.size())"
      ]
    },
    {
      "cell_type": "markdown",
      "metadata": {
        "id": "Srv3YKMMos3Y"
      },
      "source": [
        "If you have a one element tensor, use ``.item()`` to get the value as a\n",
        "Python number\n",
        "\n"
      ]
    },
    {
      "cell_type": "code",
      "execution_count": 17,
      "metadata": {
        "ExecuteTime": {
          "end_time": "2021-03-25T07:49:26.216650Z",
          "start_time": "2021-03-25T07:49:26.213200Z"
        },
        "colab": {
          "base_uri": "https://localhost:8080/"
        },
        "id": "s13XZt8Cos3Z",
        "outputId": "e411b020-8dd2-45f1-8e9e-31e788809f9b"
      },
      "outputs": [
        {
          "output_type": "stream",
          "name": "stdout",
          "text": [
            "tensor([0.1021])\n",
            "0.10211341828107834\n"
          ]
        }
      ],
      "source": [
        "x = torch.randn(1)\n",
        "print(x)\n",
        "print(x.item())"
      ]
    },
    {
      "cell_type": "markdown",
      "metadata": {
        "id": "orMsQvQAos3c"
      },
      "source": [
        "**Read later:**\n",
        "\n",
        "100+ Tensor operations, including transposing, indexing, slicing,\n",
        "mathematical operations, linear algebra, random numbers, etc.,\n",
        "[are described here](http://pytorch.org/docs/torch)\n",
        "\n",
        "## NumPy Bridge\n",
        "\n",
        "Converting a Torch Tensor to a NumPy array and vice versa is a breeze.\n",
        "\n",
        "The Torch Tensor and NumPy array will share their underlying memory\n",
        "locations, and changing one will change the other.\n",
        "\n",
        "#### Converting a Torch Tensor to a NumPy Array"
      ]
    },
    {
      "cell_type": "code",
      "execution_count": 18,
      "metadata": {
        "ExecuteTime": {
          "end_time": "2021-03-25T07:51:14.418778Z",
          "start_time": "2021-03-25T07:51:14.415453Z"
        },
        "colab": {
          "base_uri": "https://localhost:8080/"
        },
        "id": "BOdXxb_Vos3d",
        "outputId": "ea91fd97-bd34-441c-e950-41a6b23bf839"
      },
      "outputs": [
        {
          "output_type": "stream",
          "name": "stdout",
          "text": [
            "tensor([1., 1., 1., 1., 1.])\n"
          ]
        }
      ],
      "source": [
        "a = torch.ones(5)\n",
        "print(a)"
      ]
    },
    {
      "cell_type": "code",
      "execution_count": 19,
      "metadata": {
        "ExecuteTime": {
          "end_time": "2021-03-25T07:51:15.098804Z",
          "start_time": "2021-03-25T07:51:15.095300Z"
        },
        "colab": {
          "base_uri": "https://localhost:8080/"
        },
        "id": "68cPoOiIos3i",
        "outputId": "4fc89178-ec0d-419d-f300-93fd022aba46"
      },
      "outputs": [
        {
          "output_type": "stream",
          "name": "stdout",
          "text": [
            "[1. 1. 1. 1. 1.]\n"
          ]
        }
      ],
      "source": [
        "b = a.numpy()\n",
        "print(b)"
      ]
    },
    {
      "cell_type": "markdown",
      "metadata": {
        "id": "N9q-JAGdos3n"
      },
      "source": [
        "See how the numpy array changed in value.\n",
        "\n"
      ]
    },
    {
      "cell_type": "code",
      "execution_count": 20,
      "metadata": {
        "ExecuteTime": {
          "end_time": "2021-03-25T07:51:16.419056Z",
          "start_time": "2021-03-25T07:51:16.415306Z"
        },
        "colab": {
          "base_uri": "https://localhost:8080/"
        },
        "id": "0-AYXf1Los3p",
        "outputId": "21bef169-0ce4-473c-f8ed-623095887601"
      },
      "outputs": [
        {
          "output_type": "stream",
          "name": "stdout",
          "text": [
            "tensor([2., 2., 2., 2., 2.])\n",
            "[2. 2. 2. 2. 2.]\n"
          ]
        }
      ],
      "source": [
        "a.add_(1)\n",
        "print(a)\n",
        "print(b)"
      ]
    },
    {
      "cell_type": "markdown",
      "metadata": {
        "id": "8QtC7o0zos3s"
      },
      "source": [
        "#### Converting NumPy Array to Torch Tensor\n",
        "\n",
        "See how changing the np array changed the Torch Tensor automatically\n",
        "\n"
      ]
    },
    {
      "cell_type": "code",
      "execution_count": 21,
      "metadata": {
        "ExecuteTime": {
          "end_time": "2021-03-25T07:51:47.878839Z",
          "start_time": "2021-03-25T07:51:47.874879Z"
        },
        "colab": {
          "base_uri": "https://localhost:8080/"
        },
        "id": "MxF1_zXDos3t",
        "outputId": "a1e5c605-637a-4466-8f21-f08f4cb8ac4e"
      },
      "outputs": [
        {
          "output_type": "stream",
          "name": "stdout",
          "text": [
            "[2. 2. 2. 2. 2.]\n",
            "tensor([2., 2., 2., 2., 2.], dtype=torch.float64)\n"
          ]
        }
      ],
      "source": [
        "a = np.ones(5)\n",
        "b = torch.from_numpy(a)\n",
        "\n",
        "np.add(a, 1, out=a)\n",
        "\n",
        "print(a)\n",
        "print(b)"
      ]
    },
    {
      "cell_type": "markdown",
      "metadata": {
        "id": "-w5pWYnaos3w"
      },
      "source": [
        "All the Tensors on the CPU except a CharTensor support converting to\n",
        "NumPy and back.\n",
        "\n",
        "## CUDA Tensors\n",
        "\n",
        "Tensors can be moved onto any device using the ``.to`` method."
      ]
    },
    {
      "cell_type": "code",
      "source": [
        "# very bad tone\n",
        "a = torch.ones(1)\n",
        "a.cuda()"
      ],
      "metadata": {
        "id": "3qQ4loQ9otiu",
        "outputId": "43978496-5026-43b4-f203-138bd9a362c8",
        "colab": {
          "base_uri": "https://localhost:8080/"
        }
      },
      "execution_count": 26,
      "outputs": [
        {
          "output_type": "execute_result",
          "data": {
            "text/plain": [
              "tensor([1.], device='cuda:0')"
            ]
          },
          "metadata": {},
          "execution_count": 26
        }
      ]
    },
    {
      "cell_type": "code",
      "source": [
        "! watch -n 0.5 nvidia-smi"
      ],
      "metadata": {
        "id": "tzKJLbBSpcYY",
        "outputId": "79516206-3288-4d02-b77f-b64981522b54",
        "colab": {
          "base_uri": "https://localhost:8080/"
        }
      },
      "execution_count": 30,
      "outputs": [
        {
          "output_type": "stream",
          "name": "stdout",
          "text": [
            "Thu Nov  7 17:22:11 2024       \n",
            "+---------------------------------------------------------------------------------------+\n",
            "| NVIDIA-SMI 535.104.05             Driver Version: 535.104.05   CUDA Version: 12.2     |\n",
            "|-----------------------------------------+----------------------+----------------------+\n",
            "| GPU  Name                 Persistence-M | Bus-Id        Disp.A | Volatile Uncorr. ECC |\n",
            "| Fan  Temp   Perf          Pwr:Usage/Cap |         Memory-Usage | GPU-Util  Compute M. |\n",
            "|                                         |                      |               MIG M. |\n",
            "|=========================================+======================+======================|\n",
            "|   0  Tesla T4                       Off | 00000000:00:04.0 Off |                    0 |\n",
            "| N/A   60C    P0              31W /  70W |    121MiB / 15360MiB |      0%      Default |\n",
            "|                                         |                      |                  N/A |\n",
            "+-----------------------------------------+----------------------+----------------------+\n",
            "                                                                                         \n",
            "+---------------------------------------------------------------------------------------+\n",
            "| Processes:                                                                            |\n",
            "|  GPU   GI   CI        PID   Type   Process name                            GPU Memory |\n",
            "|        ID   ID                                                             Usage      |\n",
            "|=======================================================================================|\n",
            "+---------------------------------------------------------------------------------------+\n"
          ]
        }
      ]
    },
    {
      "cell_type": "code",
      "source": [
        "# not bad tone\n",
        "b = torch.ones(1)\n",
        "device = torch.device(\"cuda\") if torch.cuda.is_available() else torch.device(\"cpu\")  # a CUDA device object\n",
        "b.to(device)"
      ],
      "metadata": {
        "id": "s-me4Grwo2Yn",
        "outputId": "a7d84936-7af3-4fb3-efdb-ee80b1f70cc1",
        "colab": {
          "base_uri": "https://localhost:8080/"
        }
      },
      "execution_count": 29,
      "outputs": [
        {
          "output_type": "execute_result",
          "data": {
            "text/plain": [
              "tensor([1.], device='cuda:0')"
            ]
          },
          "metadata": {},
          "execution_count": 29
        }
      ]
    },
    {
      "cell_type": "code",
      "source": [
        "CUDA_DEVICE_IDX = 0\n",
        "\n",
        "# good tone\n",
        "c = torch.ones(1)\n",
        "device = torch.device(f\"cuda:{CUDA_DEVICE_IDX}\") if torch.cuda.is_available() else torch.device(\"cpu\")  # a CUDA device object\n",
        "c.to(device)"
      ],
      "metadata": {
        "id": "op71lXxqpP4U",
        "outputId": "c62919f7-5913-4752-8c5a-dfdb15fd434c",
        "colab": {
          "base_uri": "https://localhost:8080/"
        }
      },
      "execution_count": 33,
      "outputs": [
        {
          "output_type": "execute_result",
          "data": {
            "text/plain": [
              "tensor([1.], device='cuda:0')"
            ]
          },
          "metadata": {},
          "execution_count": 33
        }
      ]
    },
    {
      "cell_type": "code",
      "execution_count": 23,
      "metadata": {
        "ExecuteTime": {
          "end_time": "2021-03-25T07:52:48.774481Z",
          "start_time": "2021-03-25T07:52:48.771927Z"
        },
        "colab": {
          "base_uri": "https://localhost:8080/"
        },
        "id": "LHW5QuDSos3x",
        "outputId": "22d4240b-d433-4596-cfb8-f075a213d452"
      },
      "outputs": [
        {
          "output_type": "stream",
          "name": "stdout",
          "text": [
            "tensor([1.1021], device='cuda:0')\n",
            "tensor([1.1021], dtype=torch.float64)\n"
          ]
        }
      ],
      "source": [
        "CUDA_DEVICE_IDX = 0\n",
        "# let us run this cell only if CUDA is available\n",
        "# We will use ``torch.device`` objects to move tensors in and out of GPU\n",
        "if torch.cuda.is_available():\n",
        "    device = torch.device(f\"cuda:{CUDA_DEVICE_IDX}\")  # a CUDA device object\n",
        "    y = torch.ones_like(x, device=device)  # directly create a tensor on GPU\n",
        "    x = x.to(device)  # or just use strings ``.to(\"cuda\")``\n",
        "    z = x + y\n",
        "    print(z)\n",
        "    print(z.to(\"cpu\", torch.double))  # ``.to`` can also change dtype together!"
      ]
    },
    {
      "cell_type": "markdown",
      "metadata": {
        "id": "H1Yp46ogn_CV"
      },
      "source": [
        "# Autograd: Automatic Differentiation\n",
        "\n",
        "Central to all neural networks in PyTorch is the ``autograd`` package.\n",
        "Let’s first briefly visit this, and we will then go to training our\n",
        "first neural network.\n",
        "\n",
        "\n",
        "The ``autograd`` package provides automatic differentiation for all operations\n",
        "on Tensors. It is a define-by-run framework, which means that your backprop is\n",
        "defined by how your code is run, and that every single iteration can be\n",
        "different.\n",
        "\n",
        "Let us see this in more simple terms with some examples.\n",
        "\n",
        "## Tensor\n",
        "\n",
        "``torch.Tensor`` is the central class of the package. If you set its attribute\n",
        "``.requires_grad`` as ``True``, it starts to track all operations on it. When\n",
        "you finish your computation you can call ``.backward()`` and have all the\n",
        "gradients computed automatically. The gradient for this tensor will be\n",
        "accumulated into ``.grad`` attribute.\n",
        "\n",
        "To stop a tensor from tracking history, you can call ``.detach()`` to detach\n",
        "it from the computation history, and to prevent future computation from being\n",
        "tracked.\n",
        "\n",
        "To prevent tracking history (and using memory), you can also wrap the code block\n",
        "in ``with torch.no_grad():``. This can be particularly helpful when evaluating a\n",
        "model because the model may have trainable parameters with `requires_grad=True`,\n",
        "but for which we don't need the gradients.\n",
        "\n",
        "There’s one more class which is very important for autograd\n",
        "implementation - a ``Function``.\n",
        "\n",
        "``Tensor`` and ``Function`` are interconnected and build up an acyclic\n",
        "graph, that encodes a complete history of computation. Each tensor has\n",
        "a ``.grad_fn`` attribute that references a ``Function`` that has created\n",
        "the ``Tensor`` (except for Tensors created by the user - their\n",
        "``grad_fn is None``).\n",
        "\n",
        "If you want to compute the derivatives, you can call ``.backward()`` on\n",
        "a ``Tensor``. If ``Tensor`` is a scalar (i.e. it holds a one element\n",
        "data), you don’t need to specify any arguments to ``backward()``,\n",
        "however if it has more elements, you need to specify a ``gradient``\n",
        "argument that is a tensor of matching shape.\n",
        "\n"
      ]
    },
    {
      "cell_type": "markdown",
      "metadata": {
        "id": "hBORQTsvn_CV"
      },
      "source": [
        "Create a tensor and set requires_grad=True to track computation with it\n",
        "\n"
      ]
    },
    {
      "cell_type": "code",
      "source": [],
      "metadata": {
        "id": "-jJCGmUGsLMo"
      },
      "execution_count": null,
      "outputs": []
    },
    {
      "cell_type": "code",
      "execution_count": 55,
      "metadata": {
        "ExecuteTime": {
          "end_time": "2021-03-25T07:54:22.121198Z",
          "start_time": "2021-03-25T07:54:22.118180Z"
        },
        "id": "dmpao6fKn_CV",
        "outputId": "b76ec0f2-7110-48bd-c808-b9c22fc2093a",
        "colab": {
          "base_uri": "https://localhost:8080/"
        }
      },
      "outputs": [
        {
          "output_type": "stream",
          "name": "stdout",
          "text": [
            "tensor([[1., 1.],\n",
            "        [1., 1.]], requires_grad=True)\n"
          ]
        }
      ],
      "source": [
        "x = torch.ones(2, 2, requires_grad=True)\n",
        "print(x)"
      ]
    },
    {
      "cell_type": "markdown",
      "metadata": {
        "id": "sBQzRXO0n_CV"
      },
      "source": [
        "Do an operation of tensor:\n",
        "\n"
      ]
    },
    {
      "cell_type": "code",
      "execution_count": 56,
      "metadata": {
        "ExecuteTime": {
          "end_time": "2021-03-25T07:54:23.068686Z",
          "start_time": "2021-03-25T07:54:23.063505Z"
        },
        "id": "rf99j1-Wn_CV",
        "outputId": "917dc32d-6005-4d28-94af-3b443a8d0fc7",
        "colab": {
          "base_uri": "https://localhost:8080/"
        }
      },
      "outputs": [
        {
          "output_type": "stream",
          "name": "stdout",
          "text": [
            "tensor([[3., 3.],\n",
            "        [3., 3.]], grad_fn=<AddBackward0>)\n"
          ]
        }
      ],
      "source": [
        "y = x + 2\n",
        "print(y)"
      ]
    },
    {
      "cell_type": "markdown",
      "metadata": {
        "id": "ZpEsEEKan_CW"
      },
      "source": [
        "``y`` was created as a result of an operation, so it has a ``grad_fn``.\n",
        "\n"
      ]
    },
    {
      "cell_type": "code",
      "execution_count": 57,
      "metadata": {
        "ExecuteTime": {
          "end_time": "2021-03-25T07:54:24.218277Z",
          "start_time": "2021-03-25T07:54:24.215937Z"
        },
        "id": "sQmVRaMsn_CW",
        "outputId": "7125c977-198e-4611-a4fb-45fcccb6edf9",
        "colab": {
          "base_uri": "https://localhost:8080/"
        }
      },
      "outputs": [
        {
          "output_type": "stream",
          "name": "stdout",
          "text": [
            "<AddBackward0 object at 0x7b111bc18250>\n"
          ]
        }
      ],
      "source": [
        "print(y.grad_fn)"
      ]
    },
    {
      "cell_type": "markdown",
      "metadata": {
        "id": "iQQY_i3On_CW"
      },
      "source": [
        "Do more operations on y"
      ]
    },
    {
      "cell_type": "code",
      "execution_count": 58,
      "metadata": {
        "ExecuteTime": {
          "end_time": "2021-03-25T07:54:27.885352Z",
          "start_time": "2021-03-25T07:54:27.877905Z"
        },
        "id": "5WuzJlU-n_CW",
        "outputId": "d0970a4f-f794-47b0-acd7-fe65f505c7d5",
        "colab": {
          "base_uri": "https://localhost:8080/"
        }
      },
      "outputs": [
        {
          "output_type": "stream",
          "name": "stdout",
          "text": [
            "tensor([[27., 27.],\n",
            "        [27., 27.]], grad_fn=<MulBackward0>) tensor(27., grad_fn=<MeanBackward0>)\n"
          ]
        }
      ],
      "source": [
        "z = y * y * 3\n",
        "out = z.mean()\n",
        "\n",
        "print(z, out)"
      ]
    },
    {
      "cell_type": "markdown",
      "source": [],
      "metadata": {
        "id": "Ze8A4oOaqYin"
      }
    },
    {
      "cell_type": "markdown",
      "metadata": {
        "id": "xkgEtoArn_CW"
      },
      "source": [
        "``.requires_grad_( ... )`` changes an existing Tensor's ``requires_grad``\n",
        "flag in-place. The input flag defaults to ``False`` if not given.\n",
        "\n"
      ]
    },
    {
      "cell_type": "code",
      "execution_count": 43,
      "metadata": {
        "ExecuteTime": {
          "end_time": "2021-03-25T07:54:33.675595Z",
          "start_time": "2021-03-25T07:54:33.671007Z"
        },
        "id": "twP-6p4cn_CW",
        "outputId": "590fd858-2cb0-4f94-b1dd-7ca7f2061c1a",
        "colab": {
          "base_uri": "https://localhost:8080/"
        }
      },
      "outputs": [
        {
          "output_type": "stream",
          "name": "stdout",
          "text": [
            "False\n",
            "True\n",
            "<SumBackward0 object at 0x7b111be3c130>\n"
          ]
        }
      ],
      "source": [
        "a = torch.randn(2, 2)\n",
        "a = (a * 3) / (a - 1)\n",
        "print(a.requires_grad)\n",
        "\n",
        "a.requires_grad_(True)\n",
        "print(a.requires_grad)\n",
        "\n",
        "b = (a * a).sum()\n",
        "print(b.grad_fn)"
      ]
    },
    {
      "cell_type": "markdown",
      "metadata": {
        "id": "altTk9j9n_CX"
      },
      "source": [
        "Gradients\n",
        "---------\n",
        "Let's backprop now\n",
        "Because ``out`` contains a single scalar, ``out.backward()`` is\n",
        "equivalent to ``out.backward(torch.tensor(1))``.\n",
        "\n"
      ]
    },
    {
      "cell_type": "code",
      "source": [],
      "metadata": {
        "id": "OvPKHHJOsJSz"
      },
      "execution_count": 48,
      "outputs": []
    },
    {
      "cell_type": "code",
      "execution_count": 49,
      "metadata": {
        "ExecuteTime": {
          "end_time": "2021-03-25T07:59:19.505356Z",
          "start_time": "2021-03-25T07:59:19.495444Z"
        },
        "id": "KXtS1PaFn_CX"
      },
      "outputs": [],
      "source": [
        "out.backward()"
      ]
    },
    {
      "cell_type": "markdown",
      "metadata": {
        "id": "BlTRba9Fn_CX"
      },
      "source": [
        "print gradients d(out)/dx\n",
        "\n",
        "\n"
      ]
    },
    {
      "cell_type": "code",
      "execution_count": 50,
      "metadata": {
        "ExecuteTime": {
          "end_time": "2021-03-25T07:59:20.529072Z",
          "start_time": "2021-03-25T07:59:20.525327Z"
        },
        "id": "uvZn1fdAn_CX",
        "outputId": "12705753-1d28-4102-ed62-f6427e505b47",
        "colab": {
          "base_uri": "https://localhost:8080/"
        }
      },
      "outputs": [
        {
          "output_type": "stream",
          "name": "stdout",
          "text": [
            "tensor([[4.5000, 4.5000],\n",
            "        [4.5000, 4.5000]])\n"
          ]
        }
      ],
      "source": [
        "print(x.grad)"
      ]
    },
    {
      "cell_type": "code",
      "source": [
        "reg = torch.mean(x)\n",
        "reg.backward()"
      ],
      "metadata": {
        "id": "mRJHxwjhsP32"
      },
      "execution_count": 51,
      "outputs": []
    },
    {
      "cell_type": "code",
      "source": [
        "(out**2).backward()"
      ],
      "metadata": {
        "id": "5X-6UcBtsYVy"
      },
      "execution_count": 59,
      "outputs": []
    },
    {
      "cell_type": "code",
      "source": [
        "x.grad"
      ],
      "metadata": {
        "id": "9H0PXlSgsTek",
        "outputId": "4424280b-a8d6-439b-c000-9f9d39e7113c",
        "colab": {
          "base_uri": "https://localhost:8080/"
        }
      },
      "execution_count": 53,
      "outputs": [
        {
          "output_type": "execute_result",
          "data": {
            "text/plain": [
              "tensor([[4.7500, 4.7500],\n",
              "        [4.7500, 4.7500]])"
            ]
          },
          "metadata": {},
          "execution_count": 53
        }
      ]
    },
    {
      "cell_type": "markdown",
      "metadata": {
        "id": "NSvuHidEn_CX"
      },
      "source": [
        "You should have got a matrix of ``4.5``. Let’s call the ``out``\n",
        "*Tensor* “$o$”.\n",
        "We have that\n",
        "$$o = \\frac{1}{4}\\sum_i z_i,$$\n",
        "\n",
        "$$z_i = 3(x_i+2)^2$$ and $$z_i\\bigr\\rvert_{x_i=1} = 27$$\n",
        "\n",
        "Therefore,\n",
        "\n",
        "$$\\frac{\\partial o}{\\partial x_i} = \\frac{3}{2}(x_i+2),$$ hence\n",
        "$$\\frac{\\partial o}{\\partial x_i}\\bigr\\rvert_{x_i=1} = \\frac{9}{2} = 4.5$$"
      ]
    },
    {
      "cell_type": "markdown",
      "metadata": {
        "id": "xb1kzs_zn_CX"
      },
      "source": [
        "You can do many crazy things with autograd!\n",
        "\n"
      ]
    },
    {
      "cell_type": "code",
      "execution_count": 60,
      "metadata": {
        "ExecuteTime": {
          "end_time": "2021-03-25T07:59:24.837999Z",
          "start_time": "2021-03-25T07:59:24.829629Z"
        },
        "id": "Quccft7fn_CX",
        "outputId": "c9781125-01b2-477d-ac79-19ba5d62bc47",
        "colab": {
          "base_uri": "https://localhost:8080/"
        }
      },
      "outputs": [
        {
          "output_type": "stream",
          "name": "stdout",
          "text": [
            "tensor([ 728.1652,  529.5131, 1332.9187], grad_fn=<MulBackward0>)\n"
          ]
        }
      ],
      "source": [
        "x = torch.randn(3, requires_grad=True)\n",
        "\n",
        "y = x * 2\n",
        "while y.data.norm() < 1000:\n",
        "    y = y * 2\n",
        "\n",
        "print(y)"
      ]
    },
    {
      "cell_type": "code",
      "execution_count": 61,
      "metadata": {
        "ExecuteTime": {
          "end_time": "2021-03-25T07:59:30.795788Z",
          "start_time": "2021-03-25T07:59:30.791645Z"
        },
        "id": "wl7e0bzzn_CX",
        "outputId": "073fc43d-6d81-44a4-867d-916acc575ffe",
        "colab": {
          "base_uri": "https://localhost:8080/"
        }
      },
      "outputs": [
        {
          "output_type": "stream",
          "name": "stdout",
          "text": [
            "tensor([1.0240e+02, 1.0240e+03, 1.0240e-01])\n"
          ]
        }
      ],
      "source": [
        "gradients = torch.tensor([0.1, 1.0, 0.0001], dtype=torch.float)\n",
        "y.backward(gradients)\n",
        "\n",
        "print(x.grad)"
      ]
    },
    {
      "cell_type": "markdown",
      "metadata": {
        "id": "zbkvSJ5Kn_CY"
      },
      "source": [
        "You can also stop autograd from tracking history on Tensors\n",
        "with ``.requires_grad=True`` by wrapping the code block in\n",
        "``with torch.no_grad()``:\n",
        "\n"
      ]
    },
    {
      "cell_type": "code",
      "execution_count": 62,
      "metadata": {
        "ExecuteTime": {
          "end_time": "2021-03-25T07:59:32.483343Z",
          "start_time": "2021-03-25T07:59:32.476923Z"
        },
        "id": "p3tUHW6pn_CY",
        "outputId": "1a054afa-79a5-4389-bfc9-9d8a723a0a51",
        "colab": {
          "base_uri": "https://localhost:8080/"
        }
      },
      "outputs": [
        {
          "output_type": "stream",
          "name": "stdout",
          "text": [
            "True\n",
            "True\n",
            "False\n"
          ]
        }
      ],
      "source": [
        "print(x.requires_grad)\n",
        "print((x ** 2).requires_grad)\n",
        "\n",
        "with torch.no_grad():\n",
        "    print((x ** 2).requires_grad)"
      ]
    },
    {
      "cell_type": "code",
      "source": [
        "opt.zero_grad()"
      ],
      "metadata": {
        "id": "VJ0-SN53u6FK"
      },
      "execution_count": null,
      "outputs": []
    },
    {
      "cell_type": "markdown",
      "metadata": {
        "id": "E5F2pjzCn_CY"
      },
      "source": [
        "**Read Later:**\n",
        "\n",
        "* Documentation of ``autograd`` and ``Function`` is at http://pytorch.org/docs/autograd\n",
        "* Methods to visualize graph: [Netron](https://github.com/lutzroeder/Netron), [hiddenlayer](https://github.com/waleedka/hiddenlayer), [pytorchviz](https://github.com/szagoruyko/pytorchviz)\n"
      ]
    },
    {
      "cell_type": "markdown",
      "metadata": {
        "id": "TnA-M1P0n_CY"
      },
      "source": [
        "### Dealing with the familiar task\n",
        "Now we will tackle the same car classification problem with new techniques: neural networks. Let's get started"
      ]
    },
    {
      "cell_type": "code",
      "execution_count": 63,
      "metadata": {
        "ExecuteTime": {
          "end_time": "2021-03-25T08:02:34.418334Z",
          "start_time": "2021-03-25T08:02:34.088251Z"
        },
        "id": "Ru3n1ZMun_CY"
      },
      "outputs": [],
      "source": [
        "import pandas as pd"
      ]
    },
    {
      "cell_type": "code",
      "execution_count": 64,
      "metadata": {
        "ExecuteTime": {
          "end_time": "2021-03-25T08:02:36.997378Z",
          "start_time": "2021-03-25T08:02:35.025671Z"
        },
        "id": "20j26Rbon_CY",
        "outputId": "032aefdc-c894-46a9-ff46-a3340482989d",
        "colab": {
          "base_uri": "https://localhost:8080/"
        }
      },
      "outputs": [
        {
          "output_type": "stream",
          "name": "stdout",
          "text": [
            "--2024-11-07 17:46:34--  https://raw.githubusercontent.com/neychev/harbour_ml2020/master/assignments/assignment_Midterm/car_data.csv\n",
            "Resolving raw.githubusercontent.com (raw.githubusercontent.com)... 185.199.108.133, 185.199.109.133, 185.199.110.133, ...\n",
            "Connecting to raw.githubusercontent.com (raw.githubusercontent.com)|185.199.108.133|:443... connected.\n",
            "HTTP request sent, awaiting response... 200 OK\n",
            "Length: 58374 (57K) [text/plain]\n",
            "Saving to: ‘car_data.csv’\n",
            "\n",
            "car_data.csv        100%[===================>]  57.01K  --.-KB/s    in 0.001s  \n",
            "\n",
            "2024-11-07 17:46:34 (37.2 MB/s) - ‘car_data.csv’ saved [58374/58374]\n",
            "\n"
          ]
        }
      ],
      "source": [
        "import matplotlib.pyplot as plt\n",
        "import numpy as np\n",
        "import pandas as pd\n",
        "from sklearn.model_selection import train_test_split\n",
        "\n",
        "\n",
        "try:\n",
        "    dataset = pd.read_csv(\n",
        "        \"../assignments/assignment_Midterm/car_data.csv\", delimiter=\",\", header=None\n",
        "    ).values\n",
        "except FileNotFoundError:\n",
        "    !wget https://raw.githubusercontent.com/neychev/harbour_ml2020/master/assignments/assignment_Midterm/car_data.csv\n",
        "    dataset = pd.read_csv(\"car_data.csv\", delimiter=\",\", header=None).values"
      ]
    },
    {
      "cell_type": "code",
      "execution_count": 65,
      "metadata": {
        "ExecuteTime": {
          "end_time": "2021-03-25T08:03:00.698385Z",
          "start_time": "2021-03-25T08:03:00.691096Z"
        },
        "id": "ah1K-oLun_CY",
        "outputId": "e5efd8eb-87fe-4c5f-df3b-20eda45c962d",
        "colab": {
          "base_uri": "https://localhost:8080/"
        }
      },
      "outputs": [
        {
          "output_type": "stream",
          "name": "stdout",
          "text": [
            "(846, 19) (846,)\n",
            "(719, 19) (719,) (127, 19) (127,)\n"
          ]
        }
      ],
      "source": [
        "data = dataset[:, :-1].astype(int)\n",
        "target = dataset[:, -1]\n",
        "\n",
        "print(data.shape, target.shape)\n",
        "\n",
        "X_train, X_test, y_train_raw, y_test_raw = train_test_split(data, target, test_size=0.15)\n",
        "print(X_train.shape, y_train_raw.shape, X_test.shape, y_test_raw.shape)"
      ]
    },
    {
      "cell_type": "code",
      "source": [
        "X_train.shape"
      ],
      "metadata": {
        "id": "whJ-tlybvGOR",
        "outputId": "e842a1bf-6b9c-4eda-8063-fe6dc183088a",
        "colab": {
          "base_uri": "https://localhost:8080/"
        }
      },
      "execution_count": 67,
      "outputs": [
        {
          "output_type": "execute_result",
          "data": {
            "text/plain": [
              "(719, 19)"
            ]
          },
          "metadata": {},
          "execution_count": 67
        }
      ]
    },
    {
      "cell_type": "markdown",
      "metadata": {
        "id": "wddEcGJxn_CY"
      },
      "source": [
        "Now we need to map all the class labels to numbers. PyTorch does not like non-numeric labels."
      ]
    },
    {
      "cell_type": "code",
      "execution_count": 66,
      "metadata": {
        "ExecuteTime": {
          "end_time": "2021-03-25T08:03:01.902565Z",
          "start_time": "2021-03-25T08:03:01.898700Z"
        },
        "id": "jPFebk9Mn_CZ"
      },
      "outputs": [],
      "source": [
        "mapper = {x: idx for idx, x in enumerate(np.unique(y_train_raw))}\n",
        "y_train = np.array([mapper[y] for y in y_train_raw])\n",
        "y_test = np.array([mapper[y] for y in y_test_raw])"
      ]
    },
    {
      "cell_type": "code",
      "execution_count": 68,
      "metadata": {
        "id": "9wkQM7v3n_CZ"
      },
      "outputs": [],
      "source": [
        "# YOUR CODE HERE"
      ]
    },
    {
      "cell_type": "markdown",
      "metadata": {
        "id": "umV6dzQKn_CZ"
      },
      "source": [
        "And let's preprocess the feature matrices as well"
      ]
    },
    {
      "cell_type": "code",
      "execution_count": 69,
      "metadata": {
        "ExecuteTime": {
          "end_time": "2021-03-25T08:03:07.488277Z",
          "start_time": "2021-03-25T08:03:07.482541Z"
        },
        "id": "GWEoXRZFn_CZ"
      },
      "outputs": [],
      "source": [
        "from sklearn.preprocessing import StandardScaler\n",
        "\n",
        "\n",
        "scaler = StandardScaler().fit(X_train.astype(float))\n",
        "\n",
        "X_train_scaled = scaler.transform(X_train.astype(float))\n",
        "X_test_scaled = scaler.transform(X_test.astype(float))"
      ]
    },
    {
      "cell_type": "code",
      "execution_count": 70,
      "metadata": {
        "ExecuteTime": {
          "end_time": "2021-03-25T08:03:09.187705Z",
          "start_time": "2021-03-25T08:03:09.184379Z"
        },
        "id": "iDeYl1F3n_CZ",
        "outputId": "4e9e2049-5e7e-4de0-d051-a3570633c85d",
        "colab": {
          "base_uri": "https://localhost:8080/"
        }
      },
      "outputs": [
        {
          "output_type": "execute_result",
          "data": {
            "text/plain": [
              "array([[0, 95, 48, ..., 187, 197, 'van'],\n",
              "       [1, 91, 41, ..., 189, 199, 'van'],\n",
              "       [2, 104, 50, ..., 188, 196, 'saab'],\n",
              "       ...,\n",
              "       [843, 106, 54, ..., 187, 201, 'saab'],\n",
              "       [844, 86, 36, ..., 190, 195, 'saab'],\n",
              "       [845, 85, 36, ..., 186, 190, 'van']], dtype=object)"
            ]
          },
          "metadata": {},
          "execution_count": 70
        }
      ],
      "source": [
        "dataset"
      ]
    },
    {
      "cell_type": "code",
      "execution_count": 72,
      "metadata": {
        "ExecuteTime": {
          "end_time": "2021-03-25T08:03:13.471438Z",
          "start_time": "2021-03-25T08:03:13.466301Z"
        },
        "id": "Z1BgjNwon_CZ"
      },
      "outputs": [],
      "source": [
        "import torch\n",
        "import torchsummary\n",
        "from torch import nn\n",
        "from torch.nn import functional as F"
      ]
    },
    {
      "cell_type": "markdown",
      "metadata": {
        "id": "T2GXOjpLn_Ca"
      },
      "source": [
        "Here comes your first model, simple multiclass logistic regression (almost the same one you have used yesterday, but with no regularization)"
      ]
    },
    {
      "cell_type": "code",
      "execution_count": 152,
      "metadata": {
        "ExecuteTime": {
          "end_time": "2021-03-25T08:03:16.408775Z",
          "start_time": "2021-03-25T08:03:16.402302Z"
        },
        "id": "gkTLcA7in_Ca"
      },
      "outputs": [],
      "source": [
        "model = nn.Sequential()\n",
        "model.add_module(\"l1\", nn.Linear(19, 16))\n",
        "model.add_module(\"a1\", nn.ReLU())\n",
        "model.add_module(\"l2\", nn.Linear(16, 8))\n",
        "model.add_module(\"a2\", nn.ReLU())\n",
        "model.add_module(\"l3\", nn.Linear(8, 4))"
      ]
    },
    {
      "cell_type": "code",
      "execution_count": 153,
      "metadata": {
        "ExecuteTime": {
          "end_time": "2021-03-25T08:03:17.115064Z",
          "start_time": "2021-03-25T08:03:17.112511Z"
        },
        "id": "YyXNbtqRn_Ca"
      },
      "outputs": [],
      "source": [
        "# model = nn.Sequential()\n",
        "# model.add_module(\"l1\", nn.Linear(19, 4))\n",
        "# model.add_module(\"a1\", nn.LogSoftmax(dim=1))"
      ]
    },
    {
      "cell_type": "code",
      "execution_count": 154,
      "metadata": {
        "ExecuteTime": {
          "end_time": "2021-03-25T08:03:17.684328Z",
          "start_time": "2021-03-25T08:03:17.656443Z"
        },
        "id": "iR-JPJnnn_Ca",
        "outputId": "45616a71-77e0-4580-c82f-03f67a2a0d12",
        "colab": {
          "base_uri": "https://localhost:8080/"
        }
      },
      "outputs": [
        {
          "output_type": "stream",
          "name": "stdout",
          "text": [
            "----------------------------------------------------------------\n",
            "        Layer (type)               Output Shape         Param #\n",
            "================================================================\n",
            "            Linear-1                   [-1, 16]             320\n",
            "              ReLU-2                   [-1, 16]               0\n",
            "            Linear-3                    [-1, 8]             136\n",
            "              ReLU-4                    [-1, 8]               0\n",
            "            Linear-5                    [-1, 4]              36\n",
            "================================================================\n",
            "Total params: 492\n",
            "Trainable params: 492\n",
            "Non-trainable params: 0\n",
            "----------------------------------------------------------------\n",
            "Input size (MB): 0.00\n",
            "Forward/backward pass size (MB): 0.00\n",
            "Params size (MB): 0.00\n",
            "Estimated Total Size (MB): 0.00\n",
            "----------------------------------------------------------------\n"
          ]
        }
      ],
      "source": [
        "torchsummary.summary(model, (19,), device='cpu')"
      ]
    },
    {
      "cell_type": "markdown",
      "metadata": {
        "id": "2ipW7NQon_Ca"
      },
      "source": [
        "We define the optimizer (it's named Adam, we will discuss it tomorrow. You can treat it as SGD with some bells and whistles)"
      ]
    },
    {
      "cell_type": "code",
      "source": [
        "# a = torch.from_numpy(np.arange(20)).type(torch.FloatTensor)"
      ],
      "metadata": {
        "id": "8eI77j8NwoIM"
      },
      "execution_count": 155,
      "outputs": []
    },
    {
      "cell_type": "code",
      "source": [
        "# b = torch.softmax(a, dim=-1)"
      ],
      "metadata": {
        "id": "SLZkcQWlwsnH"
      },
      "execution_count": 156,
      "outputs": []
    },
    {
      "cell_type": "code",
      "source": [],
      "metadata": {
        "id": "8NhxdcAIxLhD"
      },
      "execution_count": 156,
      "outputs": []
    },
    {
      "cell_type": "code",
      "source": [
        "# plt.bar(np.arange(len(b)), b)"
      ],
      "metadata": {
        "id": "g-3z6W8Vw0ob"
      },
      "execution_count": 157,
      "outputs": []
    },
    {
      "cell_type": "code",
      "execution_count": 158,
      "metadata": {
        "ExecuteTime": {
          "end_time": "2021-03-25T08:03:35.684563Z",
          "start_time": "2021-03-25T08:03:35.682609Z"
        },
        "id": "6Hi7ysfMn_Ca"
      },
      "outputs": [],
      "source": [
        "opt = torch.optim.SGD(model.parameters(), lr=1e-2)"
      ]
    },
    {
      "cell_type": "markdown",
      "metadata": {
        "id": "kHe8tjd6n_Ca"
      },
      "source": [
        "And here comes the loss function as well. `nn.CrossEntropyLoss` combines both log-softmax and"
      ]
    },
    {
      "cell_type": "code",
      "execution_count": 159,
      "metadata": {
        "ExecuteTime": {
          "end_time": "2021-03-25T08:03:36.554954Z",
          "start_time": "2021-03-25T08:03:36.553203Z"
        },
        "id": "HqEQXokxn_Cb"
      },
      "outputs": [],
      "source": [
        "loss_function = nn.CrossEntropyLoss()"
      ]
    },
    {
      "cell_type": "code",
      "execution_count": 160,
      "metadata": {
        "ExecuteTime": {
          "end_time": "2021-03-25T08:03:36.931586Z",
          "start_time": "2021-03-25T08:03:36.928944Z"
        },
        "id": "PTkNIHJBn_Cb"
      },
      "outputs": [],
      "source": [
        "X_train_torch = torch.tensor(X_train_scaled, dtype=torch.float32)\n",
        "X_test_torch = torch.tensor(X_test_scaled, dtype=torch.float32)\n",
        "\n",
        "y_train_torch = torch.tensor(y_train, dtype=torch.long)\n",
        "y_test_torch = torch.tensor(y_test, dtype=torch.long)"
      ]
    },
    {
      "cell_type": "code",
      "execution_count": 161,
      "metadata": {
        "ExecuteTime": {
          "end_time": "2021-03-25T08:03:37.558971Z",
          "start_time": "2021-03-25T08:03:37.553100Z"
        },
        "id": "yILvukERn_Cb",
        "outputId": "6c2525d3-6264-45f5-bb20-7094a79b2201",
        "colab": {
          "base_uri": "https://localhost:8080/"
        }
      },
      "outputs": [
        {
          "output_type": "execute_result",
          "data": {
            "text/plain": [
              "tensor(1.4901, grad_fn=<NllLossBackward0>)"
            ]
          },
          "metadata": {},
          "execution_count": 161
        }
      ],
      "source": [
        "# example loss\n",
        "loss_function(model(X_train_torch[:3]), y_train_torch[:3])"
      ]
    },
    {
      "cell_type": "code",
      "source": [
        "from sklearn.metrics import accuracy_score"
      ],
      "metadata": {
        "id": "P9SDsLj_yGD6"
      },
      "execution_count": 162,
      "outputs": []
    },
    {
      "cell_type": "code",
      "execution_count": 163,
      "metadata": {
        "ExecuteTime": {
          "end_time": "2021-03-25T08:03:38.322632Z",
          "start_time": "2021-03-25T08:03:38.201020Z"
        },
        "id": "CBJgkCztn_Cb",
        "outputId": "337007c7-0866-4832-93ea-d5a43432ef20",
        "colab": {
          "base_uri": "https://localhost:8080/"
        }
      },
      "outputs": [
        {
          "output_type": "stream",
          "name": "stdout",
          "text": [
            "step #0 | mean loss = 1.3585, test accuracy = 0.43307\n",
            "step #50 | mean loss = 1.3591, test accuracy = 0.43307\n",
            "step #100 | mean loss = 1.3519, test accuracy = 0.44094\n",
            "step #150 | mean loss = 1.3432, test accuracy = 0.43307\n",
            "step #200 | mean loss = 1.3361, test accuracy = 0.44882\n",
            "step #250 | mean loss = 1.3188, test accuracy = 0.45669\n",
            "step #300 | mean loss = 1.3102, test accuracy = 0.45669\n",
            "step #350 | mean loss = 1.2918, test accuracy = 0.4252\n",
            "step #400 | mean loss = 1.281, test accuracy = 0.46457\n",
            "step #450 | mean loss = 1.2661, test accuracy = 0.45669\n",
            "step #500 | mean loss = 1.2456, test accuracy = 0.45669\n",
            "step #550 | mean loss = 1.2243, test accuracy = 0.47244\n",
            "step #600 | mean loss = 1.2114, test accuracy = 0.47244\n",
            "step #650 | mean loss = 1.1867, test accuracy = 0.49606\n",
            "step #700 | mean loss = 1.1695, test accuracy = 0.50394\n",
            "step #750 | mean loss = 1.1406, test accuracy = 0.50394\n",
            "step #800 | mean loss = 1.1033, test accuracy = 0.53543\n",
            "step #850 | mean loss = 1.0836, test accuracy = 0.56693\n",
            "step #900 | mean loss = 1.0566, test accuracy = 0.58268\n",
            "step #950 | mean loss = 1.0322, test accuracy = 0.6063\n",
            "step #1000 | mean loss = 0.98893, test accuracy = 0.61417\n",
            "step #1050 | mean loss = 0.97106, test accuracy = 0.64567\n",
            "step #1100 | mean loss = 0.9191, test accuracy = 0.65354\n",
            "step #1150 | mean loss = 0.91413, test accuracy = 0.68504\n",
            "step #1200 | mean loss = 0.88842, test accuracy = 0.70079\n",
            "step #1250 | mean loss = 0.8364, test accuracy = 0.71654\n",
            "step #1300 | mean loss = 0.82807, test accuracy = 0.70866\n",
            "step #1350 | mean loss = 0.78931, test accuracy = 0.74016\n",
            "step #1400 | mean loss = 0.75992, test accuracy = 0.74016\n",
            "step #1450 | mean loss = 0.75607, test accuracy = 0.76378\n",
            "step #1500 | mean loss = 0.7329, test accuracy = 0.76378\n",
            "step #1550 | mean loss = 0.7058, test accuracy = 0.76378\n",
            "step #1600 | mean loss = 0.69363, test accuracy = 0.75591\n",
            "step #1650 | mean loss = 0.69829, test accuracy = 0.77165\n",
            "step #1700 | mean loss = 0.66371, test accuracy = 0.76378\n",
            "step #1750 | mean loss = 0.66138, test accuracy = 0.76378\n",
            "step #1800 | mean loss = 0.61639, test accuracy = 0.76378\n",
            "step #1850 | mean loss = 0.61488, test accuracy = 0.76378\n",
            "step #1900 | mean loss = 0.58781, test accuracy = 0.76378\n",
            "step #1950 | mean loss = 0.59032, test accuracy = 0.77165\n",
            "step #2000 | mean loss = 0.59335, test accuracy = 0.77953\n",
            "step #2050 | mean loss = 0.56886, test accuracy = 0.77953\n",
            "step #2100 | mean loss = 0.57626, test accuracy = 0.77953\n",
            "step #2150 | mean loss = 0.5635, test accuracy = 0.77165\n",
            "step #2200 | mean loss = 0.55447, test accuracy = 0.77953\n",
            "step #2250 | mean loss = 0.54691, test accuracy = 0.7874\n",
            "step #2300 | mean loss = 0.53431, test accuracy = 0.7874\n",
            "step #2350 | mean loss = 0.5292, test accuracy = 0.7874\n",
            "step #2400 | mean loss = 0.5143, test accuracy = 0.7874\n",
            "step #2450 | mean loss = 0.51721, test accuracy = 0.80315\n",
            "step #2500 | mean loss = 0.50416, test accuracy = 0.80315\n",
            "step #2550 | mean loss = 0.49733, test accuracy = 0.80315\n",
            "step #2600 | mean loss = 0.49423, test accuracy = 0.79528\n",
            "step #2650 | mean loss = 0.49266, test accuracy = 0.79528\n",
            "step #2700 | mean loss = 0.46564, test accuracy = 0.79528\n",
            "step #2750 | mean loss = 0.48583, test accuracy = 0.77953\n",
            "step #2800 | mean loss = 0.47327, test accuracy = 0.77953\n",
            "step #2850 | mean loss = 0.46808, test accuracy = 0.7874\n",
            "step #2900 | mean loss = 0.4524, test accuracy = 0.77165\n",
            "step #2950 | mean loss = 0.46067, test accuracy = 0.77165\n",
            "step #3000 | mean loss = 0.45464, test accuracy = 0.77953\n",
            "step #3050 | mean loss = 0.45721, test accuracy = 0.76378\n",
            "step #3100 | mean loss = 0.44032, test accuracy = 0.76378\n",
            "step #3150 | mean loss = 0.43744, test accuracy = 0.77165\n",
            "step #3200 | mean loss = 0.4368, test accuracy = 0.76378\n",
            "step #3250 | mean loss = 0.44908, test accuracy = 0.76378\n",
            "step #3300 | mean loss = 0.43462, test accuracy = 0.76378\n",
            "step #3350 | mean loss = 0.43625, test accuracy = 0.76378\n",
            "step #3400 | mean loss = 0.43171, test accuracy = 0.74016\n",
            "step #3450 | mean loss = 0.42817, test accuracy = 0.73228\n",
            "step #3500 | mean loss = 0.41883, test accuracy = 0.74016\n",
            "step #3550 | mean loss = 0.41009, test accuracy = 0.73228\n",
            "step #3600 | mean loss = 0.40634, test accuracy = 0.72441\n",
            "step #3650 | mean loss = 0.43109, test accuracy = 0.74016\n",
            "step #3700 | mean loss = 0.41275, test accuracy = 0.74016\n",
            "step #3750 | mean loss = 0.41507, test accuracy = 0.72441\n",
            "step #3800 | mean loss = 0.41797, test accuracy = 0.74016\n",
            "step #3850 | mean loss = 0.40335, test accuracy = 0.74016\n",
            "step #3900 | mean loss = 0.41735, test accuracy = 0.73228\n",
            "step #3950 | mean loss = 0.39673, test accuracy = 0.74016\n",
            "step #4000 | mean loss = 0.39262, test accuracy = 0.74016\n",
            "step #4050 | mean loss = 0.39979, test accuracy = 0.74016\n",
            "step #4100 | mean loss = 0.40371, test accuracy = 0.73228\n",
            "step #4150 | mean loss = 0.40797, test accuracy = 0.74016\n",
            "step #4200 | mean loss = 0.39, test accuracy = 0.74016\n",
            "step #4250 | mean loss = 0.39759, test accuracy = 0.74803\n",
            "step #4300 | mean loss = 0.39225, test accuracy = 0.74803\n",
            "step #4350 | mean loss = 0.3956, test accuracy = 0.74803\n",
            "step #4400 | mean loss = 0.37615, test accuracy = 0.74016\n",
            "step #4450 | mean loss = 0.38045, test accuracy = 0.74803\n",
            "step #4500 | mean loss = 0.38157, test accuracy = 0.74803\n",
            "step #4550 | mean loss = 0.39142, test accuracy = 0.74016\n",
            "step #4600 | mean loss = 0.37057, test accuracy = 0.74803\n",
            "step #4650 | mean loss = 0.38116, test accuracy = 0.74803\n",
            "step #4700 | mean loss = 0.38037, test accuracy = 0.74803\n",
            "step #4750 | mean loss = 0.37329, test accuracy = 0.74803\n",
            "step #4800 | mean loss = 0.36361, test accuracy = 0.74016\n",
            "step #4850 | mean loss = 0.38058, test accuracy = 0.74016\n",
            "step #4900 | mean loss = 0.37493, test accuracy = 0.73228\n",
            "step #4950 | mean loss = 0.37573, test accuracy = 0.74016\n",
            "step #5000 | mean loss = 0.37731, test accuracy = 0.75591\n",
            "step #5050 | mean loss = 0.3832, test accuracy = 0.75591\n",
            "step #5100 | mean loss = 0.38101, test accuracy = 0.74803\n",
            "step #5150 | mean loss = 0.37131, test accuracy = 0.74803\n",
            "step #5200 | mean loss = 0.35658, test accuracy = 0.75591\n",
            "step #5250 | mean loss = 0.3689, test accuracy = 0.75591\n",
            "step #5300 | mean loss = 0.36371, test accuracy = 0.75591\n",
            "step #5350 | mean loss = 0.36034, test accuracy = 0.74803\n",
            "step #5400 | mean loss = 0.35365, test accuracy = 0.75591\n",
            "step #5450 | mean loss = 0.36264, test accuracy = 0.75591\n",
            "step #5500 | mean loss = 0.34352, test accuracy = 0.75591\n",
            "step #5550 | mean loss = 0.34623, test accuracy = 0.75591\n",
            "step #5600 | mean loss = 0.35116, test accuracy = 0.75591\n",
            "step #5650 | mean loss = 0.34896, test accuracy = 0.75591\n",
            "step #5700 | mean loss = 0.34974, test accuracy = 0.75591\n",
            "step #5750 | mean loss = 0.35276, test accuracy = 0.74803\n",
            "step #5800 | mean loss = 0.3637, test accuracy = 0.75591\n",
            "step #5850 | mean loss = 0.34173, test accuracy = 0.75591\n",
            "step #5900 | mean loss = 0.3565, test accuracy = 0.75591\n",
            "step #5950 | mean loss = 0.35068, test accuracy = 0.75591\n",
            "step #6000 | mean loss = 0.34428, test accuracy = 0.75591\n",
            "step #6050 | mean loss = 0.35179, test accuracy = 0.75591\n",
            "step #6100 | mean loss = 0.32559, test accuracy = 0.75591\n",
            "step #6150 | mean loss = 0.3687, test accuracy = 0.75591\n",
            "step #6200 | mean loss = 0.34847, test accuracy = 0.75591\n",
            "step #6250 | mean loss = 0.33611, test accuracy = 0.75591\n",
            "step #6300 | mean loss = 0.33792, test accuracy = 0.75591\n",
            "step #6350 | mean loss = 0.33667, test accuracy = 0.75591\n",
            "step #6400 | mean loss = 0.34356, test accuracy = 0.75591\n",
            "step #6450 | mean loss = 0.33439, test accuracy = 0.75591\n",
            "step #6500 | mean loss = 0.32458, test accuracy = 0.75591\n",
            "step #6550 | mean loss = 0.3271, test accuracy = 0.75591\n",
            "step #6600 | mean loss = 0.32761, test accuracy = 0.75591\n",
            "step #6650 | mean loss = 0.33086, test accuracy = 0.74803\n",
            "step #6700 | mean loss = 0.33844, test accuracy = 0.74803\n",
            "step #6750 | mean loss = 0.32826, test accuracy = 0.75591\n",
            "step #6800 | mean loss = 0.33422, test accuracy = 0.76378\n",
            "step #6850 | mean loss = 0.32492, test accuracy = 0.77165\n",
            "step #6900 | mean loss = 0.33504, test accuracy = 0.77165\n",
            "step #6950 | mean loss = 0.32833, test accuracy = 0.77165\n",
            "step #7000 | mean loss = 0.33018, test accuracy = 0.77165\n",
            "step #7050 | mean loss = 0.32282, test accuracy = 0.77953\n",
            "step #7100 | mean loss = 0.32541, test accuracy = 0.77953\n",
            "step #7150 | mean loss = 0.32886, test accuracy = 0.77953\n",
            "step #7200 | mean loss = 0.32669, test accuracy = 0.77953\n",
            "step #7250 | mean loss = 0.34201, test accuracy = 0.77953\n",
            "step #7300 | mean loss = 0.30751, test accuracy = 0.77953\n",
            "step #7350 | mean loss = 0.32899, test accuracy = 0.77953\n",
            "step #7400 | mean loss = 0.31759, test accuracy = 0.77953\n",
            "step #7450 | mean loss = 0.31005, test accuracy = 0.77953\n",
            "step #7500 | mean loss = 0.30488, test accuracy = 0.77953\n",
            "step #7550 | mean loss = 0.31041, test accuracy = 0.7874\n",
            "step #7600 | mean loss = 0.3213, test accuracy = 0.77953\n",
            "step #7650 | mean loss = 0.32766, test accuracy = 0.77953\n",
            "step #7700 | mean loss = 0.30757, test accuracy = 0.77953\n",
            "step #7750 | mean loss = 0.31836, test accuracy = 0.77953\n",
            "step #7800 | mean loss = 0.30075, test accuracy = 0.77953\n",
            "step #7850 | mean loss = 0.30407, test accuracy = 0.77953\n",
            "step #7900 | mean loss = 0.30521, test accuracy = 0.77953\n",
            "step #7950 | mean loss = 0.30398, test accuracy = 0.77953\n",
            "step #8000 | mean loss = 0.30198, test accuracy = 0.77953\n",
            "step #8050 | mean loss = 0.30287, test accuracy = 0.7874\n",
            "step #8100 | mean loss = 0.31249, test accuracy = 0.77165\n",
            "step #8150 | mean loss = 0.31098, test accuracy = 0.77953\n",
            "step #8200 | mean loss = 0.29667, test accuracy = 0.77953\n",
            "step #8250 | mean loss = 0.28951, test accuracy = 0.77953\n",
            "step #8300 | mean loss = 0.29092, test accuracy = 0.77953\n",
            "step #8350 | mean loss = 0.30789, test accuracy = 0.7874\n",
            "step #8400 | mean loss = 0.28559, test accuracy = 0.77165\n",
            "step #8450 | mean loss = 0.30756, test accuracy = 0.77953\n",
            "step #8500 | mean loss = 0.30209, test accuracy = 0.77953\n",
            "step #8550 | mean loss = 0.29386, test accuracy = 0.77165\n",
            "step #8600 | mean loss = 0.29346, test accuracy = 0.75591\n",
            "step #8650 | mean loss = 0.28405, test accuracy = 0.77165\n",
            "step #8700 | mean loss = 0.2894, test accuracy = 0.77953\n",
            "step #8750 | mean loss = 0.30464, test accuracy = 0.7874\n",
            "step #8800 | mean loss = 0.28383, test accuracy = 0.77165\n",
            "step #8850 | mean loss = 0.30408, test accuracy = 0.76378\n",
            "step #8900 | mean loss = 0.29264, test accuracy = 0.77953\n",
            "step #8950 | mean loss = 0.2903, test accuracy = 0.77953\n",
            "step #9000 | mean loss = 0.28225, test accuracy = 0.7874\n",
            "step #9050 | mean loss = 0.30488, test accuracy = 0.77953\n",
            "step #9100 | mean loss = 0.28908, test accuracy = 0.77953\n",
            "step #9150 | mean loss = 0.29419, test accuracy = 0.7874\n",
            "step #9200 | mean loss = 0.2853, test accuracy = 0.77953\n",
            "step #9250 | mean loss = 0.30367, test accuracy = 0.77953\n",
            "step #9300 | mean loss = 0.27926, test accuracy = 0.7874\n",
            "step #9350 | mean loss = 0.27947, test accuracy = 0.7874\n",
            "step #9400 | mean loss = 0.27724, test accuracy = 0.77953\n",
            "step #9450 | mean loss = 0.2921, test accuracy = 0.77953\n",
            "step #9500 | mean loss = 0.28509, test accuracy = 0.77953\n",
            "step #9550 | mean loss = 0.28797, test accuracy = 0.77953\n",
            "step #9600 | mean loss = 0.28344, test accuracy = 0.7874\n",
            "step #9650 | mean loss = 0.28929, test accuracy = 0.79528\n",
            "step #9700 | mean loss = 0.27742, test accuracy = 0.77953\n",
            "step #9750 | mean loss = 0.28462, test accuracy = 0.7874\n",
            "step #9800 | mean loss = 0.29329, test accuracy = 0.7874\n",
            "step #9850 | mean loss = 0.28706, test accuracy = 0.79528\n",
            "step #9900 | mean loss = 0.28498, test accuracy = 0.7874\n",
            "step #9950 | mean loss = 0.27951, test accuracy = 0.7874\n"
          ]
        }
      ],
      "source": [
        "history = []\n",
        "\n",
        "for i in range(10000):\n",
        "    # sample 128 random observations\n",
        "    ix = np.random.randint(0, len(X_train), 256)\n",
        "    x_batch = X_train_torch[ix]\n",
        "    y_batch = y_train_torch[ix]\n",
        "\n",
        "    # predict probabilities\n",
        "    ### YOUR CODE\n",
        "    # clear gradients\n",
        "    ### YOUR CODE\n",
        "    opt.zero_grad()\n",
        "\n",
        "    y_predicted = model(x_batch)\n",
        "\n",
        "    # compute loss, just like before\n",
        "    loss = loss_function(y_predicted, y_batch)\n",
        "\n",
        "    # compute gradients\n",
        "    loss.backward()\n",
        "    ### YOUR CODE\n",
        "\n",
        "    # SGD step\n",
        "    ### YOUR CODE\n",
        "    opt.step()\n",
        "\n",
        "\n",
        "    history.append(loss.item())\n",
        "\n",
        "    if i % 50 == 0:\n",
        "        print(\n",
        "            \"step #{} | mean loss = {:.5}, test accuracy = {:.5}\".format(\n",
        "                i,\n",
        "                np.mean(history[-10:]),\n",
        "                accuracy_score(y_test, model(X_test_torch).detach().numpy().argmax(axis=1)),\n",
        "            )\n",
        "        )"
      ]
    },
    {
      "cell_type": "markdown",
      "metadata": {
        "id": "13bDxZicn_Cb"
      },
      "source": [
        "Now we get the predictions"
      ]
    },
    {
      "cell_type": "code",
      "execution_count": 164,
      "metadata": {
        "ExecuteTime": {
          "end_time": "2021-03-25T08:03:59.367866Z",
          "start_time": "2021-03-25T08:03:59.363750Z"
        },
        "id": "e6Dj05DRn_Cb"
      },
      "outputs": [],
      "source": [
        "y_predicted_train = model(torch.from_numpy(X_train_scaled).type(torch.float32)).detach().numpy()\n",
        "y_predicted_test = model(torch.from_numpy(X_test_scaled).type(torch.float32)).detach().numpy()"
      ]
    },
    {
      "cell_type": "code",
      "source": [
        "!pip install scikit-plot"
      ],
      "metadata": {
        "id": "wZXxxPe9y3IR",
        "outputId": "bd6f6eb9-1eb8-4eb5-9e10-6d803db50335",
        "colab": {
          "base_uri": "https://localhost:8080/"
        }
      },
      "execution_count": 165,
      "outputs": [
        {
          "output_type": "stream",
          "name": "stdout",
          "text": [
            "Requirement already satisfied: scikit-plot in /usr/local/lib/python3.10/dist-packages (0.3.7)\n",
            "Requirement already satisfied: matplotlib>=1.4.0 in /usr/local/lib/python3.10/dist-packages (from scikit-plot) (3.8.0)\n",
            "Requirement already satisfied: scikit-learn>=0.18 in /usr/local/lib/python3.10/dist-packages (from scikit-plot) (1.5.2)\n",
            "Requirement already satisfied: scipy>=0.9 in /usr/local/lib/python3.10/dist-packages (from scikit-plot) (1.13.1)\n",
            "Requirement already satisfied: joblib>=0.10 in /usr/local/lib/python3.10/dist-packages (from scikit-plot) (1.4.2)\n",
            "Requirement already satisfied: contourpy>=1.0.1 in /usr/local/lib/python3.10/dist-packages (from matplotlib>=1.4.0->scikit-plot) (1.3.0)\n",
            "Requirement already satisfied: cycler>=0.10 in /usr/local/lib/python3.10/dist-packages (from matplotlib>=1.4.0->scikit-plot) (0.12.1)\n",
            "Requirement already satisfied: fonttools>=4.22.0 in /usr/local/lib/python3.10/dist-packages (from matplotlib>=1.4.0->scikit-plot) (4.54.1)\n",
            "Requirement already satisfied: kiwisolver>=1.0.1 in /usr/local/lib/python3.10/dist-packages (from matplotlib>=1.4.0->scikit-plot) (1.4.7)\n",
            "Requirement already satisfied: numpy<2,>=1.21 in /usr/local/lib/python3.10/dist-packages (from matplotlib>=1.4.0->scikit-plot) (1.26.4)\n",
            "Requirement already satisfied: packaging>=20.0 in /usr/local/lib/python3.10/dist-packages (from matplotlib>=1.4.0->scikit-plot) (24.1)\n",
            "Requirement already satisfied: pillow>=6.2.0 in /usr/local/lib/python3.10/dist-packages (from matplotlib>=1.4.0->scikit-plot) (10.4.0)\n",
            "Requirement already satisfied: pyparsing>=2.3.1 in /usr/local/lib/python3.10/dist-packages (from matplotlib>=1.4.0->scikit-plot) (3.2.0)\n",
            "Requirement already satisfied: python-dateutil>=2.7 in /usr/local/lib/python3.10/dist-packages (from matplotlib>=1.4.0->scikit-plot) (2.8.2)\n",
            "Requirement already satisfied: threadpoolctl>=3.1.0 in /usr/local/lib/python3.10/dist-packages (from scikit-learn>=0.18->scikit-plot) (3.5.0)\n",
            "Requirement already satisfied: six>=1.5 in /usr/local/lib/python3.10/dist-packages (from python-dateutil>=2.7->matplotlib>=1.4.0->scikit-plot) (1.16.0)\n"
          ]
        }
      ]
    },
    {
      "cell_type": "code",
      "execution_count": 166,
      "metadata": {
        "ExecuteTime": {
          "end_time": "2021-03-25T08:05:25.712414Z",
          "start_time": "2021-03-25T08:05:25.643648Z"
        },
        "id": "nUST8Ehan_Cb"
      },
      "outputs": [],
      "source": [
        "# import scikitplot\n",
        "from sklearn.metrics import accuracy_score, f1_score"
      ]
    },
    {
      "cell_type": "code",
      "execution_count": 167,
      "metadata": {
        "ExecuteTime": {
          "end_time": "2021-03-25T08:05:28.426245Z",
          "start_time": "2021-03-25T08:05:28.419274Z"
        },
        "id": "PLb2t53rn_Cb",
        "outputId": "b7fe356d-3c6f-4895-b47a-b6318a7b8ed8",
        "colab": {
          "base_uri": "https://localhost:8080/"
        }
      },
      "outputs": [
        {
          "output_type": "stream",
          "name": "stdout",
          "text": [
            "Accuracy train: 0.8650904033379694\n",
            "Accuracy  test: 0.7874015748031497\n",
            "f1 train: 0.8674156428576513\n",
            "f1 test: 0.7813366153883395\n"
          ]
        }
      ],
      "source": [
        "print(\n",
        "    \"Accuracy train: {}\\nAccuracy  test: {}\\nf1 train: {}\\nf1 test: {}\".format(\n",
        "        accuracy_score(y_train, np.argmax(y_predicted_train, axis=1)),\n",
        "        accuracy_score(y_test, np.argmax(y_predicted_test, axis=1)),\n",
        "        f1_score(y_train, np.argmax(y_predicted_train, axis=1), average=\"macro\"),\n",
        "        f1_score(y_test, np.argmax(y_predicted_test, axis=1), average=\"macro\"),\n",
        "    )\n",
        ")"
      ]
    },
    {
      "cell_type": "code",
      "execution_count": 168,
      "metadata": {
        "ExecuteTime": {
          "end_time": "2021-03-25T08:05:30.242852Z",
          "start_time": "2021-03-25T08:05:30.235373Z"
        },
        "id": "p1k5JXxxn_Cc",
        "outputId": "2215faa6-ce7a-4cf3-8173-468dca834600",
        "colab": {
          "base_uri": "https://localhost:8080/"
        }
      },
      "outputs": [
        {
          "output_type": "stream",
          "name": "stdout",
          "text": [
            "Accuracy train: 0.8650904033379694\n",
            "Accuracy  test: 0.7874015748031497\n",
            "f1 train: 0.8647675698616591\n",
            "f1 test: 0.7874699784148602\n"
          ]
        }
      ],
      "source": [
        "print(\n",
        "    \"Accuracy train: {}\\nAccuracy  test: {}\\nf1 train: {}\\nf1 test: {}\".format(\n",
        "        accuracy_score(y_train, np.argmax(y_predicted_train, axis=1)),\n",
        "        accuracy_score(y_test, np.argmax(y_predicted_test, axis=1)),\n",
        "        f1_score(y_train, np.argmax(y_predicted_train, axis=1), average=\"weighted\"),\n",
        "        f1_score(y_test, np.argmax(y_predicted_test, axis=1), average=\"weighted\"),\n",
        "    )\n",
        ")"
      ]
    },
    {
      "cell_type": "code",
      "execution_count": 169,
      "metadata": {
        "ExecuteTime": {
          "end_time": "2021-03-25T08:05:31.057348Z",
          "start_time": "2021-03-25T08:05:30.756125Z"
        },
        "id": "EiIsTPJ9n_Cc",
        "outputId": "afbf0c03-85b3-4a04-c575-97f88bc532fd",
        "colab": {
          "base_uri": "https://localhost:8080/",
          "height": 140
        }
      },
      "outputs": [
        {
          "output_type": "error",
          "ename": "NameError",
          "evalue": "name 'scikitplot' is not defined",
          "traceback": [
            "\u001b[0;31m---------------------------------------------------------------------------\u001b[0m",
            "\u001b[0;31mNameError\u001b[0m                                 Traceback (most recent call last)",
            "\u001b[0;32m<ipython-input-169-deb1473630ed>\u001b[0m in \u001b[0;36m<cell line: 1>\u001b[0;34m()\u001b[0m\n\u001b[0;32m----> 1\u001b[0;31m \u001b[0mscikitplot\u001b[0m\u001b[0;34m.\u001b[0m\u001b[0mmetrics\u001b[0m\u001b[0;34m.\u001b[0m\u001b[0mplot_roc\u001b[0m\u001b[0;34m(\u001b[0m\u001b[0my_test\u001b[0m\u001b[0;34m,\u001b[0m \u001b[0my_predicted_test\u001b[0m\u001b[0;34m)\u001b[0m\u001b[0;34m\u001b[0m\u001b[0;34m\u001b[0m\u001b[0m\n\u001b[0m",
            "\u001b[0;31mNameError\u001b[0m: name 'scikitplot' is not defined"
          ]
        }
      ],
      "source": [
        "scikitplot.metrics.plot_roc(y_test, y_predicted_test)"
      ]
    },
    {
      "cell_type": "markdown",
      "metadata": {
        "id": "2AdwqFhrn_Cc"
      },
      "source": [
        "__Not that good, yeah? Let's get back and make it really work__"
      ]
    },
    {
      "cell_type": "markdown",
      "metadata": {
        "id": "-zNvT8vGn_Cc"
      },
      "source": [
        "### More complex stuff: NotMNIST"
      ]
    },
    {
      "cell_type": "code",
      "execution_count": null,
      "metadata": {
        "id": "UYc7_qnbn_Cc"
      },
      "outputs": [],
      "source": [
        "from notmnist import load_notmnist\n",
        "\n",
        "\n",
        "X_train, y_train, X_test, y_test = load_notmnist()\n",
        "X_train, X_test = X_train.reshape([-1, 784]), X_test.reshape([-1, 784])\n",
        "\n",
        "print(\"Train size = %i, test_size = %i\" % (len(X_train), len(X_test)))"
      ]
    },
    {
      "cell_type": "code",
      "execution_count": null,
      "metadata": {
        "id": "dl4LMpBBn_Cc"
      },
      "outputs": [],
      "source": [
        "for i in [0, 1]:\n",
        "    plt.subplot(1, 2, i + 1)\n",
        "    plt.imshow(X_train[i].reshape([28, 28]))\n",
        "    plt.title(str(y_train[i]))"
      ]
    },
    {
      "cell_type": "code",
      "execution_count": null,
      "metadata": {
        "id": "8ZUVVSy6n_Cc"
      },
      "outputs": [],
      "source": [
        "# Your turn: create a multiclass classifier in here for notMNIST dataset."
      ]
    },
    {
      "cell_type": "code",
      "execution_count": null,
      "metadata": {
        "id": "xvT-H3T6n_Cc"
      },
      "outputs": [],
      "source": [
        "# create a network that stacks layers on top of each other\n",
        "model = nn.Sequential()\n",
        "\n",
        "# add first \"dense\" layer with 784 input units and 1 output unit.\n",
        "model.add_module(\n",
        "    \"l1\",\n",
        ")  # YOUR CODE HERE)\n",
        "model.add_module(\n",
        "    \"a1\",\n",
        ")  # YOUR CODE HERE)"
      ]
    },
    {
      "cell_type": "markdown",
      "metadata": {
        "id": "_dA4DLSgn_Cd"
      },
      "source": [
        "Take a look at the model structure:"
      ]
    },
    {
      "cell_type": "code",
      "execution_count": null,
      "metadata": {
        "id": "81O5JnAtn_Cd"
      },
      "outputs": [],
      "source": [
        "torchsummary.summary(model)"
      ]
    },
    {
      "cell_type": "markdown",
      "metadata": {
        "id": "LXaJ_4oHn_Cd"
      },
      "source": [
        "Let's check that everything works correctly:"
      ]
    },
    {
      "cell_type": "code",
      "execution_count": null,
      "metadata": {
        "id": "xXWfc4oan_Cd"
      },
      "outputs": [],
      "source": [
        "# create dummy data with 3 samples and 784 features\n",
        "x = torch.tensor(X_train[:3], dtype=torch.float32)\n",
        "y = torch.tensor(y_train[:3], dtype=torch.float32)\n",
        "\n",
        "# compute outputs given inputs, both are variables\n",
        "y_predicted = model(x)[:, 0]\n",
        "\n",
        "y_predicted  # display what we've got"
      ]
    },
    {
      "cell_type": "markdown",
      "metadata": {
        "id": "wrUd1tuZn_Cd"
      },
      "source": [
        "Let's call the loss function from `torch.nn`."
      ]
    },
    {
      "cell_type": "code",
      "execution_count": null,
      "metadata": {
        "id": "SeWAeyCjn_Cd"
      },
      "outputs": [],
      "source": [
        "loss_function = nn.CrossEntropyLoss()"
      ]
    },
    {
      "cell_type": "markdown",
      "metadata": {
        "id": "76ylVnjRn_Cd"
      },
      "source": [
        "Define some optimizer for your model parameters:"
      ]
    },
    {
      "cell_type": "code",
      "execution_count": null,
      "metadata": {
        "id": "b-Qyy6wun_Cd"
      },
      "outputs": [],
      "source": [
        "opt = None  # YOUR CODE HERE"
      ]
    },
    {
      "cell_type": "markdown",
      "metadata": {
        "id": "U5wEDNIIn_Ce"
      },
      "source": [
        "Compute the loss for some batch of objects:"
      ]
    },
    {
      "cell_type": "code",
      "execution_count": null,
      "metadata": {
        "id": "R2oKuDxRn_Ce"
      },
      "outputs": [],
      "source": [
        "loss = None  # YOUR CODE HERE"
      ]
    },
    {
      "cell_type": "markdown",
      "metadata": {
        "id": "Jho0lBKrn_Ce"
      },
      "source": [
        "Do a backward pass and optimizator step:"
      ]
    },
    {
      "cell_type": "code",
      "execution_count": null,
      "metadata": {
        "id": "AfKMjYVGn_Ce"
      },
      "outputs": [],
      "source": [
        "# YOUR CODE HERE"
      ]
    },
    {
      "cell_type": "markdown",
      "metadata": {
        "id": "ddTNr8kun_Ce"
      },
      "source": [
        "Finally, implement the optimization pipeline and monitor the model quality during the optimization."
      ]
    },
    {
      "cell_type": "code",
      "execution_count": null,
      "metadata": {
        "id": "5i3ws1Eqn_Ce"
      },
      "outputs": [],
      "source": [
        "# YOUR CODE HERE"
      ]
    }
  ],
  "metadata": {
    "colab": {
      "name": "tensor_tutorial.ipynb",
      "provenance": [],
      "gpuType": "T4"
    },
    "kernelspec": {
      "display_name": "Python [conda env:ml-mipt]",
      "language": "python",
      "name": "conda-env-ml-mipt-py"
    },
    "language_info": {
      "codemirror_mode": {
        "name": "ipython",
        "version": 3
      },
      "file_extension": ".py",
      "mimetype": "text/x-python",
      "name": "python",
      "nbconvert_exporter": "python",
      "pygments_lexer": "ipython3",
      "version": "3.8.5"
    },
    "toc": {
      "base_numbering": 1,
      "nav_menu": {},
      "number_sections": true,
      "sideBar": true,
      "skip_h1_title": false,
      "title_cell": "Table of Contents",
      "title_sidebar": "Contents",
      "toc_cell": false,
      "toc_position": {},
      "toc_section_display": true,
      "toc_window_display": true
    },
    "accelerator": "GPU"
  },
  "nbformat": 4,
  "nbformat_minor": 0
}